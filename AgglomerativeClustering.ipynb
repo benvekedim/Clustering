{
  "nbformat": 4,
  "nbformat_minor": 0,
  "metadata": {
    "colab": {
      "name": "AgglomerativeClustering.ipynb",
      "provenance": [],
      "collapsed_sections": [],
      "authorship_tag": "ABX9TyPp7V4w2RaZQkeGicm3cHKv",
      "include_colab_link": true
    },
    "kernelspec": {
      "name": "python3",
      "display_name": "Python 3"
    },
    "language_info": {
      "name": "python"
    }
  },
  "cells": [
    {
      "cell_type": "markdown",
      "metadata": {
        "id": "view-in-github",
        "colab_type": "text"
      },
      "source": [
        "<a href=\"https://colab.research.google.com/github/benvekedim/Clustering/blob/main/AgglomerativeClustering.ipynb\" target=\"_parent\"><img src=\"https://colab.research.google.com/assets/colab-badge.svg\" alt=\"Open In Colab\"/></a>"
      ]
    },
    {
      "cell_type": "code",
      "execution_count": 1,
      "metadata": {
        "colab": {
          "base_uri": "https://localhost:8080/"
        },
        "id": "YfXeICRb76Ws",
        "outputId": "63d722c1-1ce5-4e11-f578-0392817181d3"
      },
      "outputs": [
        {
          "output_type": "execute_result",
          "data": {
            "text/plain": [
              "array([1, 1, 1, 1, 1, 1, 1, 1, 1, 1, 1, 1, 1, 1, 1, 1, 1, 1, 1, 1, 1, 1,\n",
              "       1, 1, 1, 1, 1, 1, 1, 1, 1, 1, 1, 1, 1, 1, 1, 1, 1, 1, 1, 1, 1, 1,\n",
              "       1, 1, 1, 1, 1, 1, 2, 2, 0, 2, 2, 2, 2, 2, 2, 2, 2, 2, 2, 2, 2, 2,\n",
              "       2, 2, 2, 2, 0, 2, 0, 2, 2, 2, 2, 0, 2, 2, 2, 2, 2, 0, 2, 2, 2, 2,\n",
              "       2, 2, 2, 2, 2, 2, 2, 2, 2, 2, 2, 2, 0, 0, 0, 0, 0, 0, 2, 0, 0, 0,\n",
              "       0, 0, 0, 0, 0, 0, 0, 0, 0, 0, 0, 0, 0, 0, 0, 0, 0, 0, 0, 0, 0, 0,\n",
              "       0, 0, 0, 0, 0, 0, 0, 0, 0, 0, 0, 0, 0, 0, 0, 0, 0, 0])"
            ]
          },
          "metadata": {},
          "execution_count": 1
        }
      ],
      "source": [
        "import numpy as np\n",
        "import matplotlib.pyplot as plt\n",
        "\n",
        "#AgglomerativeClustering\n",
        "from sklearn.cluster import AgglomerativeClustering\n",
        "\n",
        "#data\n",
        "from sklearn import datasets\n",
        "iris = datasets.load_iris()\n",
        "data = iris.data[:, [2,3]]\n",
        "\n",
        "#model\n",
        "model = AgglomerativeClustering(n_clusters=3)\n",
        "\n",
        "# fit and predict\n",
        "prediction = model.fit_predict(data)\n",
        "prediction\n",
        "\n"
      ]
    },
    {
      "cell_type": "code",
      "source": [
        "clusters = np.unique(prediction)\n",
        "clusters"
      ],
      "metadata": {
        "colab": {
          "base_uri": "https://localhost:8080/"
        },
        "id": "pHoi22ER8nt6",
        "outputId": "77d910be-4125-4fd2-cd91-dda8b7c82b4d"
      },
      "execution_count": 2,
      "outputs": [
        {
          "output_type": "execute_result",
          "data": {
            "text/plain": [
              "array([0, 1, 2])"
            ]
          },
          "metadata": {},
          "execution_count": 2
        }
      ]
    },
    {
      "cell_type": "code",
      "source": [
        "for cluster in clusters:\n",
        "  row_ix = np.where(prediction==cluster)\n",
        "  plt.scatter(data[row_ix,0],data[row_ix,1])\n",
        "plt.show()"
      ],
      "metadata": {
        "colab": {
          "base_uri": "https://localhost:8080/",
          "height": 265
        },
        "id": "hymvsfd78vZs",
        "outputId": "ce1e95a2-048d-4d3e-fcc5-1f32fa838075"
      },
      "execution_count": 3,
      "outputs": [
        {
          "output_type": "display_data",
          "data": {
            "text/plain": [
              "<Figure size 432x288 with 1 Axes>"
            ],
            "image/png": "[encoded data removed]"
          },
          "metadata": {
            "needs_background": "light"
          }
        }
      ]
    },
    {
      "cell_type": "code",
      "source": [
        "#silhouette_score\n",
        "\n",
        "from sklearn.metrics import silhouette_score\n",
        "score = silhouette_score(X=data,labels=prediction)\n",
        "score"
      ],
      "metadata": {
        "colab": {
          "base_uri": "https://localhost:8080/"
        },
        "id": "0C82NIJQ9DsC",
        "outputId": "22f95402-eb95-4433-c637-98da44c9aa9f"
      },
      "execution_count": 4,
      "outputs": [
        {
          "output_type": "execute_result",
          "data": {
            "text/plain": [
              "0.6573949269287823"
            ]
          },
          "metadata": {},
          "execution_count": 4
        }
      ]
    },
    {
      "cell_type": "code",
      "source": [
        "links = [\"average\",\"single\",\"complete\"]\n",
        "metrics = [\"euclidean\",\"cosine\",\"manhattan\"]\n",
        "sil_score = []\n",
        "for i in metrics:\n",
        "  for j in links:\n",
        "    model = AgglomerativeClustering(n_clusters=3,affinity=i,linkage=j)\n",
        "    prediction = model.fit_predict(data)\n",
        "    score = silhouette_score(X=data,labels=prediction)\n",
        "    sil_score.append(score)\n",
        "    \n",
        "\n",
        "\n",
        "print(sil_score)"
      ],
      "metadata": {
        "colab": {
          "base_uri": "https://localhost:8080/"
        },
        "id": "WAfn8vsW_l1u",
        "outputId": "b377bfdc-ff98-44d5-d250-6740d677708f"
      },
      "execution_count": 59,
      "outputs": [
        {
          "output_type": "stream",
          "name": "stdout",
          "text": [
            "[0.6573949269287823, 0.5346815260603673, 0.6573949269287823, 0.18561482790106593, 0.3024157433855853, 0.18561482790106593, 0.6573949269287823, 0.2916572554981225, 0.6573949269287823]\n"
          ]
        }
      ]
    },
    {
      "cell_type": "code",
      "source": [
        "links = [\"average\",\"single\",\"complete\"]\n",
        "metrics = [\"euclidean\",\"cosine\",\"manhattan\"]\n",
        "\n",
        "metric_link = [[i+\"-\"+j] for j in links for i in metrics]\n",
        "metric_link"
      ],
      "metadata": {
        "colab": {
          "base_uri": "https://localhost:8080/"
        },
        "id": "TgHTst7GD8Wt",
        "outputId": "1347ac00-cfdf-4327-f1ce-a36090048ce5"
      },
      "execution_count": 39,
      "outputs": [
        {
          "output_type": "execute_result",
          "data": {
            "text/plain": [
              "[['euclidean-average'],\n",
              " ['cosine-average'],\n",
              " ['manhattan-average'],\n",
              " ['euclidean-single'],\n",
              " ['cosine-single'],\n",
              " ['manhattan-single'],\n",
              " ['euclidean-complete'],\n",
              " ['cosine-complete'],\n",
              " ['manhattan-complete']]"
            ]
          },
          "metadata": {},
          "execution_count": 39
        }
      ]
    },
    {
      "cell_type": "code",
      "source": [
        "keys = sil_score\n",
        "values = metric_link"
      ],
      "metadata": {
        "id": "e-_fQ5P6Elea"
      },
      "execution_count": 60,
      "outputs": []
    },
    {
      "cell_type": "code",
      "source": [
        "list(zip(keys,values))"
      ],
      "metadata": {
        "colab": {
          "base_uri": "https://localhost:8080/"
        },
        "id": "zej7yhd5Ga9Y",
        "outputId": "dc8e22ff-98ce-4425-cc8c-cdbf7f695986"
      },
      "execution_count": 57,
      "outputs": [
        {
          "output_type": "execute_result",
          "data": {
            "text/plain": [
              "[(0.6573949269287823, ['euclidean-average']),\n",
              " (0.5346815260603673, ['cosine-average']),\n",
              " (0.6573949269287823, ['manhattan-average']),\n",
              " (0.18561482790106593, ['euclidean-single']),\n",
              " (0.3024157433855853, ['cosine-single']),\n",
              " (0.18561482790106593, ['manhattan-single']),\n",
              " (0.6573949269287823, ['euclidean-complete']),\n",
              " (0.2916572554981225, ['cosine-complete']),\n",
              " (0.6573949269287823, ['manhattan-complete'])]"
            ]
          },
          "metadata": {},
          "execution_count": 57
        }
      ]
    },
    {
      "cell_type": "code",
      "source": [
        "sorted(list(zip(keys,values)))[4:]"
      ],
      "metadata": {
        "colab": {
          "base_uri": "https://localhost:8080/"
        },
        "id": "yN1gPPYvHIae",
        "outputId": "4e4cb2b8-7324-489f-fb1f-8d42ef5ca1a0"
      },
      "execution_count": 65,
      "outputs": [
        {
          "output_type": "execute_result",
          "data": {
            "text/plain": [
              "[(0.5346815260603673, ['cosine-average']),\n",
              " (0.6573949269287823, ['euclidean-average']),\n",
              " (0.6573949269287823, ['euclidean-complete']),\n",
              " (0.6573949269287823, ['manhattan-average']),\n",
              " (0.6573949269287823, ['manhattan-complete'])]"
            ]
          },
          "metadata": {},
          "execution_count": 65
        }
      ]
    }
  ]
}