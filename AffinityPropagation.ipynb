{
  "nbformat": 4,
  "nbformat_minor": 0,
  "metadata": {
    "colab": {
      "name": "AffinityPropagation.ipynb",
      "provenance": [],
      "authorship_tag": "ABX9TyNDsS5qZ9UL3llWdm1WBHE+",
      "include_colab_link": true
    },
    "kernelspec": {
      "name": "python3",
      "display_name": "Python 3"
    },
    "language_info": {
      "name": "python"
    }
  },
  "cells": [
    {
      "cell_type": "markdown",
      "metadata": {
        "id": "view-in-github",
        "colab_type": "text"
      },
      "source": [
        "<a href=\"https://colab.research.google.com/github/benvekedim/Clustering/blob/main/AffinityPropagation.ipynb\" target=\"_parent\"><img src=\"https://colab.research.google.com/assets/colab-badge.svg\" alt=\"Open In Colab\"/></a>"
      ]
    },
    {
      "cell_type": "code",
      "execution_count": 36,
      "metadata": {
        "colab": {
          "base_uri": "https://localhost:8080/"
        },
        "id": "rUbUH1yRzPVU",
        "outputId": "9bc8142a-1ab3-46ec-eb47-89811e038b6e"
      },
      "outputs": [
        {
          "output_type": "execute_result",
          "data": {
            "text/plain": [
              "array([0, 0, 0, 0, 0, 0, 0, 0, 0, 0, 0, 0, 0, 0, 0, 0, 0, 0, 0, 0, 0, 0,\n",
              "       0, 0, 0, 0, 0, 0, 0, 0, 0, 0, 0, 0, 0, 0, 0, 0, 0, 0, 0, 0, 0, 0,\n",
              "       0, 0, 0, 0, 0, 0, 1, 1, 1, 1, 1, 1, 1, 1, 1, 1, 1, 1, 1, 1, 1, 1,\n",
              "       1, 1, 1, 1, 1, 1, 1, 1, 1, 1, 1, 1, 1, 1, 1, 1, 1, 1, 1, 1, 1, 1,\n",
              "       1, 1, 1, 1, 1, 1, 1, 1, 1, 1, 1, 1, 2, 2, 2, 2, 2, 2, 1, 2, 2, 2,\n",
              "       2, 2, 2, 2, 2, 2, 2, 2, 2, 1, 2, 1, 2, 1, 2, 2, 1, 1, 2, 2, 2, 2,\n",
              "       2, 1, 2, 2, 2, 2, 1, 2, 2, 2, 2, 2, 2, 2, 2, 2, 2, 2])"
            ]
          },
          "metadata": {},
          "execution_count": 36
        }
      ],
      "source": [
        "import numpy as np\n",
        "import matplotlib.pyplot as plt\n",
        "\n",
        "from sklearn import datasets\n",
        "iris = datasets.load_iris()\n",
        "data = iris.data[:, [2,3]]\n",
        "\n",
        "#AffinityPropagation\n",
        "from sklearn.cluster import AffinityPropagation\n",
        "\n",
        "model = AffinityPropagation(damping=0.96)\n",
        "\n",
        "#fit the model\n",
        "model.fit(data)\n",
        "\n",
        "#prediction\n",
        "prediction = model.predict(data)\n",
        "prediction \n"
      ]
    },
    {
      "cell_type": "code",
      "source": [
        "#unique clusters\n",
        "np.unique(prediction)"
      ],
      "metadata": {
        "colab": {
          "base_uri": "https://localhost:8080/"
        },
        "id": "HZeXhb1n0izL",
        "outputId": "6f5b4f88-1844-4b93-b300-112e4e1df61b"
      },
      "execution_count": 37,
      "outputs": [
        {
          "output_type": "execute_result",
          "data": {
            "text/plain": [
              "array([0, 1, 2])"
            ]
          },
          "metadata": {},
          "execution_count": 37
        }
      ]
    },
    {
      "cell_type": "code",
      "source": [
        "for cluster in np.unique(prediction):\n",
        "  row_ix = np.where(prediction==cluster)\n",
        "  plt.scatter(data[row_ix,0],data[row_ix,1])\n",
        "plt.show()"
      ],
      "metadata": {
        "colab": {
          "base_uri": "https://localhost:8080/",
          "height": 265
        },
        "id": "s2zbcYjJ1JEO",
        "outputId": "060878e1-264e-4bff-c9e9-c7dca0d0dea8"
      },
      "execution_count": 38,
      "outputs": [
        {
          "output_type": "display_data",
          "data": {
            "text/plain": [
              "<Figure size 432x288 with 1 Axes>"
            ],
            "image/png": "[encoded data removed]"
          },
          "metadata": {
            "needs_background": "light"
          }
        }
      ]
    },
    {
      "cell_type": "code",
      "source": [
        "#silhouette_score\n",
        "\n",
        "from sklearn.metrics import silhouette_score\n",
        "score = silhouette_score(X=data,labels=prediction)\n",
        "score"
      ],
      "metadata": {
        "colab": {
          "base_uri": "https://localhost:8080/"
        },
        "id": "K4SHNyM-1-B_",
        "outputId": "008ea372-67b9-4089-d600-6d1b5553355e"
      },
      "execution_count": 39,
      "outputs": [
        {
          "output_type": "execute_result",
          "data": {
            "text/plain": [
              "0.661324829912024"
            ]
          },
          "metadata": {},
          "execution_count": 39
        }
      ]
    },
    {
      "cell_type": "code",
      "source": [
        "damping_list = np.arange(80,97)/100\n",
        "damping_list"
      ],
      "metadata": {
        "colab": {
          "base_uri": "https://localhost:8080/"
        },
        "id": "XUiH8WKH2Q4X",
        "outputId": "be217d57-8c7c-46a8-fc04-308260dae74c"
      },
      "execution_count": 40,
      "outputs": [
        {
          "output_type": "execute_result",
          "data": {
            "text/plain": [
              "array([0.8 , 0.81, 0.82, 0.83, 0.84, 0.85, 0.86, 0.87, 0.88, 0.89, 0.9 ,\n",
              "       0.91, 0.92, 0.93, 0.94, 0.95, 0.96])"
            ]
          },
          "metadata": {},
          "execution_count": 40
        }
      ]
    },
    {
      "cell_type": "code",
      "source": [
        "len(damping_list)"
      ],
      "metadata": {
        "colab": {
          "base_uri": "https://localhost:8080/"
        },
        "id": "moGLJMdr4guY",
        "outputId": "cd9a969d-d4f8-4b7e-d1d5-4736ddd366fb"
      },
      "execution_count": 45,
      "outputs": [
        {
          "output_type": "execute_result",
          "data": {
            "text/plain": [
              "17"
            ]
          },
          "metadata": {},
          "execution_count": 45
        }
      ]
    },
    {
      "cell_type": "code",
      "source": [
        "sil_score = []\n",
        "for i in damping_list:\n",
        "  model = AffinityPropagation(damping = i)\n",
        "  model.fit(data)\n",
        "  prediction = model.predict(data)\n",
        "  score = silhouette_score(X=data,labels=prediction)\n",
        "  sil_score.append(score)\n",
        "\n",
        "print(sil_score)\n"
      ],
      "metadata": {
        "colab": {
          "base_uri": "https://localhost:8080/"
        },
        "id": "TzMsHiPB2ipZ",
        "outputId": "a861f94f-d634-4872-c01b-8de0df209407"
      },
      "execution_count": 42,
      "outputs": [
        {
          "output_type": "stream",
          "name": "stdout",
          "text": [
            "[0.572858149775547, 0.5668966988650062, 0.572858149775547, 0.572858149775547, 0.5668966988650062, 0.5668966988650062, 0.572858149775547, 0.6138185997804122, 0.6138185997804122, 0.6138185997804122, 0.6138185997804122, 0.6138185997804122, 0.6138185997804122, 0.6138185997804122, 0.6138185997804122, 0.6138185997804122, 0.661324829912024]\n"
          ]
        }
      ]
    },
    {
      "cell_type": "code",
      "source": [
        "indice = np.where(sil_score==np.max(sil_score))[0][0]"
      ],
      "metadata": {
        "id": "-NtVNCxL4xNH"
      },
      "execution_count": 53,
      "outputs": []
    },
    {
      "cell_type": "code",
      "source": [
        "sil_score[indice]"
      ],
      "metadata": {
        "colab": {
          "base_uri": "https://localhost:8080/"
        },
        "id": "NKdoyf_Q4awA",
        "outputId": "d17ab008-273a-46ea-ad3e-406eb2a972de"
      },
      "execution_count": 54,
      "outputs": [
        {
          "output_type": "execute_result",
          "data": {
            "text/plain": [
              "0.661324829912024"
            ]
          },
          "metadata": {},
          "execution_count": 54
        }
      ]
    }
  ]
}